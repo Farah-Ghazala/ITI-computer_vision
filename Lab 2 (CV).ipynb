{
 "cells": [
  {
   "cell_type": "code",
   "execution_count": 1,
   "id": "7b931bd6",
   "metadata": {},
   "outputs": [],
   "source": [
    "import cv2 as cv\n",
    "import matplotlib.pyplot as plt\n",
    "import numpy as np"
   ]
  },
  {
   "cell_type": "markdown",
   "id": "0d79c8f5",
   "metadata": {},
   "source": [
    "### Q1 Make 100*100 rgb pixel image with white background and make diagonal of image with black color"
   ]
  },
  {
   "cell_type": "code",
   "execution_count": 2,
   "id": "b68dd5a2",
   "metadata": {},
   "outputs": [
    {
     "data": {
      "text/plain": [
       "<matplotlib.image.AxesImage at 0x178f69fcbb0>"
      ]
     },
     "execution_count": 2,
     "metadata": {},
     "output_type": "execute_result"
    },
    {
     "data": {
      "image/png": "[encoded data removed]",
      "text/plain": [
       "<Figure size 432x288 with 1 Axes>"
      ]
     },
     "metadata": {
      "needs_background": "light"
     },
     "output_type": "display_data"
    }
   ],
   "source": [
    "img = np.zeros((100,100,3), np.uint8)\n",
    "img[:] = 255\n",
    "for i,row in enumerate (img):\n",
    "    for j,col in enumerate (row):\n",
    "        if i == j:\n",
    "            img[i,j] = 0\n",
    "            \n",
    "plt.imshow(cv.cvtColor(img,cv.COLOR_BGR2RGB))"
   ]
  },
  {
   "cell_type": "code",
   "execution_count": null,
   "id": "1f23e001",
   "metadata": {},
   "outputs": [],
   "source": []
  },
  {
   "cell_type": "markdown",
   "id": "93f2027f",
   "metadata": {},
   "source": [
    "### Q2- run video stream using your laptop camera and save frames when i press key “s” close camera when i press “q” ,name of images should be “img.png +{counter}”"
   ]
  },
  {
   "cell_type": "code",
   "execution_count": 32,
   "id": "15ddb9ae",
   "metadata": {},
   "outputs": [],
   "source": [
    "cap=cv.VideoCapture(0)\n",
    "counter=0\n",
    "while(cap.isOpened()):\n",
    "    state,frame=cap.read()\n",
    "    if state==True:\n",
    "        cv.imshow('Window',frame)\n",
    "        \n",
    "        k=cv.waitKey(1)\n",
    "        if k== ord('q'):\n",
    "            break\n",
    "        elif k==ord('s'):\n",
    "            counter=counter+1\n",
    "            cv.imwrite(f\"img{counter}.png\",frame)\n",
    "\n",
    "    else:\n",
    "        print(\"fail read frame\")\n",
    "        break\n",
    "\n",
    "cap.release()\n",
    "cv.destroyAllWindows()\n"
   ]
  },
  {
   "cell_type": "code",
   "execution_count": null,
   "id": "31f7b2ff",
   "metadata": {},
   "outputs": [],
   "source": []
  },
  {
   "cell_type": "markdown",
   "id": "7c703a47",
   "metadata": {},
   "source": [
    "### Q3 Make 100*100 rgb pixel image with black background and make diagonal of image with (x) color such that x is came from rgb trackbar"
   ]
  },
  {
   "cell_type": "code",
   "execution_count": 20,
   "id": "63b42d1e",
   "metadata": {},
   "outputs": [
    {
     "name": "stdout",
     "output_type": "stream",
     "text": [
      "finish\n"
     ]
    }
   ],
   "source": [
    "def nothing(x):\n",
    "    pass\n",
    "\n",
    "cv.namedWindow(\"Window\")\n",
    "\n",
    "cv.createTrackbar(\"Red\",\"Window\",0,255,nothing)\n",
    "cv.createTrackbar(\"Green\",\"Window\",0,255,nothing)\n",
    "cv.createTrackbar(\"Blue\",\"Window\",0,255,nothing)\n",
    "\n",
    "img = np.zeros((100,100,3), np.uint8)\n",
    "while 1:\n",
    "    R = cv.getTrackbarPos(\"Red\",\"Window\")\n",
    "    G = cv.getTrackbarPos(\"Green\",\"Window\")\n",
    "    B = cv.getTrackbarPos(\"Blue\",\"Window\")\n",
    "    \n",
    "    for i,row in enumerate(img):\n",
    "        for j,col in enumerate(row):\n",
    "            if i==j:\n",
    "                img[i,j] = [B,G,R]\n",
    "            \n",
    "    cv.imshow(\"Window\",img)\n",
    "    #plt.imshow(cv.cvtColor(img,cv.COLOR_BGR2RGB))\n",
    "    \n",
    "    k = cv.waitKey(1)\n",
    "    if k == ord('q'):\n",
    "        print('finish')\n",
    "        break\n",
    "cv.destroyAllWindows()"
   ]
  },
  {
   "cell_type": "code",
   "execution_count": 21,
   "id": "6b77038b",
   "metadata": {},
   "outputs": [
    {
     "name": "stdout",
     "output_type": "stream",
     "text": [
      "finish\n"
     ]
    },
    {
     "data": {
      "image/png": "[encoded data removed]",
      "text/plain": [
       "<Figure size 432x288 with 1 Axes>"
      ]
     },
     "metadata": {
      "needs_background": "light"
     },
     "output_type": "display_data"
    }
   ],
   "source": [
    "def nothing(x):\n",
    "    pass\n",
    "\n",
    "cv.namedWindow(\"Window\")\n",
    "\n",
    "cv.createTrackbar(\"Red\",\"Window\",0,255,nothing)\n",
    "cv.createTrackbar(\"Green\",\"Window\",0,255,nothing)\n",
    "cv.createTrackbar(\"Blue\",\"Window\",0,255,nothing)\n",
    "\n",
    "img = np.zeros((100,100,3), np.uint8)\n",
    "while 1:\n",
    "    R = cv.getTrackbarPos(\"Red\",\"Window\")\n",
    "    G = cv.getTrackbarPos(\"Green\",\"Window\")\n",
    "    B = cv.getTrackbarPos(\"Blue\",\"Window\")\n",
    "    \n",
    "    for i,row in enumerate(img):\n",
    "        for j,col in enumerate(row):\n",
    "            if i==j:\n",
    "                img[i,j] = [B,G,R]\n",
    "            \n",
    "    #cv.imshow(\"Window\",img)\n",
    "    plt.imshow(cv.cvtColor(img,cv.COLOR_BGR2RGB))\n",
    "    \n",
    "    k = cv.waitKey(1)\n",
    "    if k == ord('q'):\n",
    "        print('finish')\n",
    "        break\n",
    "cv.destroyAllWindows()"
   ]
  },
  {
   "cell_type": "markdown",
   "id": "96073d64",
   "metadata": {},
   "source": [
    "### Q4\n",
    "### create 100* 100 rgb image with black background and make 1 vertical line and 1 \n",
    "### horizontal line the color of both should be controlled spereat from 2 trackbar\n",
    "### First one “horz” and second one is “vert”"
   ]
  },
  {
   "cell_type": "code",
   "execution_count": 30,
   "id": "a793f019",
   "metadata": {},
   "outputs": [
    {
     "name": "stdout",
     "output_type": "stream",
     "text": [
      "finish\n"
     ]
    }
   ],
   "source": [
    "img = np.zeros((100,100,3), np.uint8)\n",
    "\n",
    "def nothing(x):\n",
    "    pass\n",
    "\n",
    "cv.namedWindow(\"Window\")\n",
    "cv.createTrackbar(\"horz\",\"Window\",0,255,nothing)\n",
    "cv.createTrackbar(\"vert\",\"Window\",0,255,nothing)\n",
    "\n",
    "while 1:\n",
    "    h = cv.getTrackbarPos(\"horz\",\"Window\")\n",
    "    v = cv.getTrackbarPos(\"vert\",\"Window\")\n",
    "    \n",
    "    img[50,:] = [0,h,0]\n",
    "    img[:,50] = [0,0,v]\n",
    "    \n",
    "    \n",
    "    cv.imshow(\"Window\", img)\n",
    "    k = cv.waitKey(1)\n",
    "    if k == ord('q'):\n",
    "        print('finish')\n",
    "        break\n",
    "        \n",
    "cv.destroyAllWindows()"
   ]
  },
  {
   "cell_type": "markdown",
   "id": "015a3947",
   "metadata": {},
   "source": [
    "### Q5\n",
    "### create 250*250 rgb image with black background and make 1 vertical line and 1 \n",
    "### horizontal line with red color and both should be controlled spereat from 2 \n",
    "### trackbar to select the horizontal line in which row and vertical line in which \n",
    "### column. \n",
    "### First one “horz” and second one is “vert” (Trackbar)"
   ]
  },
  {
   "cell_type": "code",
   "execution_count": 31,
   "id": "cc329f10",
   "metadata": {},
   "outputs": [
    {
     "name": "stdout",
     "output_type": "stream",
     "text": [
      "finish\n"
     ]
    }
   ],
   "source": [
    "img = np.zeros((250,250,3), np.uint8)\n",
    "\n",
    "def nothing(x):\n",
    "    pass\n",
    "\n",
    "cv.namedWindow(\"Window\")\n",
    "cv.createTrackbar(\"horz\",\"Window\",0,255,nothing)\n",
    "cv.createTrackbar(\"vert\",\"Window\",0,255,nothing)\n",
    "\n",
    "while 1:\n",
    "    h = cv.getTrackbarPos(\"horz\",\"Window\")\n",
    "    v = cv.getTrackbarPos(\"vert\",\"Window\")\n",
    "    img = np.zeros((250,250,3), np.uint8)\n",
    "    \n",
    "    img[h,:] = [0,0,255]\n",
    "    img[:,v] = [0,0,255]\n",
    "    \n",
    "    \n",
    "    cv.imshow(\"Window\", img)\n",
    "    k = cv.waitKey(1)\n",
    "    if k == ord('q'):\n",
    "        print('finish')\n",
    "        break\n",
    "        \n",
    "cv.destroyAllWindows()"
   ]
  },
  {
   "cell_type": "code",
   "execution_count": null,
   "id": "96d85597",
   "metadata": {},
   "outputs": [],
   "source": []
  }
 ],
 "metadata": {
  "kernelspec": {
   "display_name": "Python 3 (ipykernel)",
   "language": "python",
   "name": "python3"
  },
  "language_info": {
   "codemirror_mode": {
    "name": "ipython",
    "version": 3
   },
   "file_extension": ".py",
   "mimetype": "text/x-python",
   "name": "python",
   "nbconvert_exporter": "python",
   "pygments_lexer": "ipython3",
   "version": "3.9.7"
  }
 },
 "nbformat": 4,
 "nbformat_minor": 5
}

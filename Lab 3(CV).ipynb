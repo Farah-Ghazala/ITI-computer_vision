{
 "cells": [
  {
   "cell_type": "code",
   "execution_count": 1,
   "id": "bcbe884e",
   "metadata": {},
   "outputs": [],
   "source": [
    "import cv2 as cv\n",
    "import numpy as np\n",
    "import matplotlib.pyplot as plt"
   ]
  },
  {
   "cell_type": "markdown",
   "id": "c6292229",
   "metadata": {},
   "source": [
    "### Q1- Create image 256 * 256 Draw red square 50 * 50 in the center of blue circle with radius 80 the center of both square and circle is the same center of image."
   ]
  },
  {
   "cell_type": "code",
   "execution_count": 2,
   "id": "00fbcbd4",
   "metadata": {},
   "outputs": [
    {
     "data": {
      "text/plain": [
       "<matplotlib.image.AxesImage at 0x27d1ffa7cd0>"
      ]
     },
     "execution_count": 2,
     "metadata": {},
     "output_type": "execute_result"
    },
    {
     "data": {
      "image/png": "[encoded data removed]",
      "text/plain": [
       "<Figure size 432x288 with 1 Axes>"
      ]
     },
     "metadata": {
      "needs_background": "light"
     },
     "output_type": "display_data"
    }
   ],
   "source": [
    "img = np.zeros((256,256,3), np.uint8)\n",
    "cv.circle(img ,(128,128),80,[0,0,255],3)\n",
    "cv.rectangle(img,(103,103),(153,153),(255,0,0),3)\n",
    "plt.imshow(img)"
   ]
  },
  {
   "cell_type": "markdown",
   "id": "3b5020ce",
   "metadata": {},
   "source": [
    "### Q2 make trackbar to control line position ,color and thickness in image 500*500 rgb"
   ]
  },
  {
   "cell_type": "code",
   "execution_count": 5,
   "id": "82b47866",
   "metadata": {},
   "outputs": [
    {
     "name": "stdout",
     "output_type": "stream",
     "text": [
      "Finish\n"
     ]
    }
   ],
   "source": [
    "def nothing(x):\n",
    "    pass\n",
    "\n",
    "cv.namedWindow(\"Window\")\n",
    "\n",
    "cv.createTrackbar('x1',\"Window\",0,499,nothing)\n",
    "cv.createTrackbar('x2',\"Window\",0,499,nothing)\n",
    "cv.createTrackbar('y1',\"Window\",0,499,nothing)\n",
    "cv.createTrackbar('y2',\"Window\",0,499,nothing)\n",
    "\n",
    "cv.createTrackbar('red',\"Window\",0,255,nothing)\n",
    "cv.createTrackbar('green',\"Window\",0,255,nothing)\n",
    "cv.createTrackbar('blue',\"Window\",0,255,nothing)\n",
    "\n",
    "cv.createTrackbar('thickness',\"Window\",1,100,nothing)\n",
    "\n",
    "\n",
    "image=np.zeros((500,500,3),np.uint8)\n",
    "\n",
    "while(True):\n",
    "    x1=cv.getTrackbarPos(\"x1\",\"Window\")\n",
    "    x2=cv.getTrackbarPos(\"x2\",\"Window\")\n",
    "    y1=cv.getTrackbarPos(\"y1\",\"Window\")\n",
    "    y2=cv.getTrackbarPos(\"y2\",\"Window\")\n",
    "    \n",
    "    red=cv.getTrackbarPos(\"red\",\"Window\")\n",
    "    green=cv.getTrackbarPos(\"green\",\"Window\")\n",
    "    blue=cv.getTrackbarPos(\"blue\",\"Window\")\n",
    "    \n",
    "    thickness=cv.getTrackbarPos(\"thickness\",\"Window\")\n",
    "\n",
    "    image=np.zeros((500,500,3),np.uint8)\n",
    "    \n",
    "    cv.line(image,(x1,y1),(x2,y2),(blue,green,red),thickness)\n",
    "\n",
    "    cv.imshow(\"Window\",image)\n",
    "    k=cv.waitKey(1)\n",
    "    if k==ord('q'):\n",
    "        print(\"Finish\")\n",
    "        break\n",
    "\n",
    "cv.destroyAllWindows()"
   ]
  },
  {
   "cell_type": "markdown",
   "id": "319fc3c8",
   "metadata": {},
   "source": [
    "### Q3 make trackbar to control position,radius and color of circle in image 500*500 rgb"
   ]
  },
  {
   "cell_type": "code",
   "execution_count": 8,
   "id": "de8ad8f6",
   "metadata": {},
   "outputs": [
    {
     "name": "stdout",
     "output_type": "stream",
     "text": [
      "Finish\n"
     ]
    }
   ],
   "source": [
    "def nothing(x):\n",
    "    pass\n",
    "\n",
    "cv.namedWindow(\"Window\")\n",
    "\n",
    "cv.createTrackbar('x',\"Window\",0,499,nothing)\n",
    "#cv.createTrackbar('x2',\"Window\",0,499,nothing)\n",
    "#cv.createTrackbar('y1',\"Window\",0,499,nothing)\n",
    "cv.createTrackbar('y',\"Window\",0,499,nothing)\n",
    "\n",
    "cv.createTrackbar('red',\"Window\",0,255,nothing)\n",
    "cv.createTrackbar('green',\"Window\",0,255,nothing)\n",
    "cv.createTrackbar('blue',\"Window\",0,255,nothing)\n",
    "\n",
    "cv.createTrackbar('radious',\"Window\",1,100,nothing)\n",
    "\n",
    "\n",
    "image=np.zeros((500,500,3),np.uint8)\n",
    "\n",
    "while(True):\n",
    "    x=cv.getTrackbarPos(\"x\",\"Window\")\n",
    "    #x2=cv.getTrackbarPos(\"x2\",\"Window\")\n",
    "    #y1=cv.getTrackbarPos(\"y1\",\"Window\")\n",
    "    y=cv.getTrackbarPos(\"y\",\"Window\")\n",
    "    \n",
    "    red=cv.getTrackbarPos(\"red\",\"Window\")\n",
    "    green=cv.getTrackbarPos(\"green\",\"Window\")\n",
    "    blue=cv.getTrackbarPos(\"blue\",\"Window\")\n",
    "    \n",
    "    radious=cv.getTrackbarPos(\"radious\",\"Window\")\n",
    "\n",
    "    image=np.zeros((500,500,3),np.uint8)\n",
    "    \n",
    "    cv.circle(image,(x,y),radious,(blue,green,red),3)\n",
    "\n",
    "    cv.imshow(\"Window\",image)\n",
    "    k=cv.waitKey(1)\n",
    "    if k==ord('q'):\n",
    "        print(\"Finish\")\n",
    "        break\n",
    "\n",
    "cv.destroyAllWindows()"
   ]
  },
  {
   "cell_type": "markdown",
   "id": "2b770d16",
   "metadata": {},
   "source": [
    "### Q4 create image 800*800 rgb write a word “Hello”with red color and draw yellow rectangle on border of word"
   ]
  },
  {
   "cell_type": "code",
   "execution_count": 12,
   "id": "a9c93d49",
   "metadata": {},
   "outputs": [
    {
     "data": {
      "text/plain": [
       "<matplotlib.image.AxesImage at 0x27d2255eeb0>"
      ]
     },
     "execution_count": 12,
     "metadata": {},
     "output_type": "execute_result"
    },
    {
     "data": {
      "image/png": "[encoded data removed]",
      "text/plain": [
       "<Figure size 432x288 with 1 Axes>"
      ]
     },
     "metadata": {
      "needs_background": "light"
     },
     "output_type": "display_data"
    }
   ],
   "source": [
    "img =np.zeros((800,800,3),np.uint8)\n",
    "cv.putText(img,\"Hello\",(290,290),cv.FONT_HERSHEY_SIMPLEX,3,(225,0,0),4)\n",
    "cv.rectangle(img,(260,180),(530,350),(225,225,0),3)\n",
    "plt.imshow(img)"
   ]
  },
  {
   "cell_type": "markdown",
   "id": "6c6edf9e",
   "metadata": {},
   "source": [
    "### Q5 create image 800*800 rgb with red circle in center of image with radius 100 and make small blue circle with radius of 6 that move within circumference of the big circle every 1 second 10 degree."
   ]
  },
  {
   "cell_type": "code",
   "execution_count": 15,
   "id": "16b02ad9",
   "metadata": {},
   "outputs": [],
   "source": [
    "angle=0\n",
    "while(True):\n",
    "    image=np.zeros((800,800,3),np.uint8)\n",
    "    center=(400,400)\n",
    "    \n",
    "    cv.circle(image,(400,400),100,(0,0,255),2)\n",
    "    \n",
    "    length=100\n",
    "    angle=angle+10\n",
    "    angle_radians=np.radians(angle)\n",
    "    end_point=(\n",
    "        int(center[1]+length*np.sin(angle_radians)),      \n",
    "        int(center[0]-length*np.cos(angle_radians))\n",
    "            )\n",
    "\n",
    "    cv.circle(image,(end_point),6,(255,0,0),2)\n",
    "    \n",
    "    cv.imshow(\"T\",image)\n",
    "    k=cv.waitKey(1000)\n",
    "    if k==ord('q'):\n",
    "        break\n",
    "\n",
    "cv.destroyAllWindows()"
   ]
  },
  {
   "cell_type": "code",
   "execution_count": null,
   "id": "b592e907",
   "metadata": {},
   "outputs": [],
   "source": []
  }
 ],
 "metadata": {
  "kernelspec": {
   "display_name": "Python 3 (ipykernel)",
   "language": "python",
   "name": "python3"
  },
  "language_info": {
   "codemirror_mode": {
    "name": "ipython",
    "version": 3
   },
   "file_extension": ".py",
   "mimetype": "text/x-python",
   "name": "python",
   "nbconvert_exporter": "python",
   "pygments_lexer": "ipython3",
   "version": "3.9.7"
  }
 },
 "nbformat": 4,
 "nbformat_minor": 5
}

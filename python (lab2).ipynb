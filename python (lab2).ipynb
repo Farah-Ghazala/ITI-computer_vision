{
 "cells": [
  {
   "cell_type": "markdown",
   "id": "7aa5fb9a",
   "metadata": {},
   "source": [
    "### Q1 -Write a program to display the last digit of a number."
   ]
  },
  {
   "cell_type": "code",
   "execution_count": 6,
   "id": "a2fce34a",
   "metadata": {},
   "outputs": [
    {
     "name": "stdout",
     "output_type": "stream",
     "text": [
      "Enter any number : 123\n",
      "The last digit of 123 = 3\n"
     ]
    }
   ],
   "source": [
    "x = int(input(\"Enter any number : \"))\n",
    "y = str(x)\n",
    "res = y[-1]\n",
    "print(f\"The last digit of {x} = {res}\")"
   ]
  },
  {
   "cell_type": "markdown",
   "id": "f3be30f7",
   "metadata": {},
   "source": [
    "#### Q2- Write a program to check whether the last digit of a number( entered by user ) is divisible by 3 or not."
   ]
  },
  {
   "cell_type": "code",
   "execution_count": 8,
   "id": "da08e7f7",
   "metadata": {},
   "outputs": [
    {
     "name": "stdout",
     "output_type": "stream",
     "text": [
      "Enter any number : 5\n",
      "5 is not advisible by 3.\n"
     ]
    }
   ],
   "source": [
    "x = int(input(\"Enter any number : \"))\n",
    "y = str(x)\n",
    "res = y[-1]\n",
    "\n",
    "z = int(res)\n",
    "if z%3 == 0:\n",
    "    print(f\"{z} is advisible by 3.\")\n",
    "else:\n",
    "    print(f\"{z} is not advisible by 3.\")"
   ]
  },
  {
   "cell_type": "markdown",
   "id": "8a05290e",
   "metadata": {},
   "source": [
    "### Q3- Write a program to accept a number from 1 to 7 and display the name of the day like 1 for Sunday , 2 for Monday and so on."
   ]
  },
  {
   "cell_type": "code",
   "execution_count": 12,
   "id": "50db8ee6",
   "metadata": {},
   "outputs": [
    {
     "name": "stdout",
     "output_type": "stream",
     "text": [
      "Enter the number of your day: 2\n",
      "Your day is Monday\n"
     ]
    }
   ],
   "source": [
    "days = {\n",
    "    1:\"Sunday\",\n",
    "    2:\"Monday\",\n",
    "    3:\"Tuesday\",\n",
    "    4:\"Wednesday\",\n",
    "    5:\"Thursday\",\n",
    "    6:\"Friday\",\n",
    "    7:\"Saturday\"\n",
    "}\n",
    "\n",
    "x = int(input(\"Enter the number of your day: \"))\n",
    "print(f\"Your day is {days[x]}\")"
   ]
  },
  {
   "cell_type": "markdown",
   "id": "92a43b47",
   "metadata": {},
   "source": [
    "### Q4- Write a program to check a character is vowel or not."
   ]
  },
  {
   "cell_type": "code",
   "execution_count": 14,
   "id": "46e0bd57",
   "metadata": {},
   "outputs": [
    {
     "name": "stdout",
     "output_type": "stream",
     "text": [
      "Enter your character: h\n",
      "Your character is not vowel.\n"
     ]
    }
   ],
   "source": [
    "vowels = ['a','e','i','o','u']\n",
    "x = input(\"Enter your character: \")\n",
    "if x in vowels:\n",
    "    print(\"Your character is vowel.\")\n",
    "else:\n",
    "    print(\"Your character is not vowel.\")"
   ]
  },
  {
   "cell_type": "markdown",
   "id": "36686328",
   "metadata": {},
   "source": [
    "### Q5- Accept the marked price from the user and calculate the Net amount as(Marked Price – Discount) to pay according to following criteria:"
   ]
  },
  {
   "cell_type": "code",
   "execution_count": 17,
   "id": "359a3b87",
   "metadata": {},
   "outputs": [
    {
     "name": "stdout",
     "output_type": "stream",
     "text": [
      "Enter your marked price: 8000\n",
      "You have 15% dicount, so the price = 1200.0\n"
     ]
    }
   ],
   "source": [
    "Marked_Price = int(input(\"Enter your marked price: \"))\n",
    "if Marked_Price > 10000:\n",
    "    print(f\"You have 20% dicount, so the price = {Marked_Price*0.2}\")\n",
    "    \n",
    "elif 7000 < Marked_Price <= 10000:\n",
    "    print(f\"You have 15% dicount, so the price = {Marked_Price*0.15}\")\n",
    "    \n",
    "else:\n",
    "    print(f\"You have 10% dicount, so the price = {Marked_Price*0.1}\")"
   ]
  },
  {
   "cell_type": "markdown",
   "id": "5bf0ea2f",
   "metadata": {},
   "source": [
    "### Q6- Use a loop to display elements from a given list that are present at odd index positions\n",
    "lst = [10, 20, 30, 40, 50, 60, 70, 80, 90, 100]"
   ]
  },
  {
   "cell_type": "code",
   "execution_count": 30,
   "id": "c3a6d6ee",
   "metadata": {},
   "outputs": [
    {
     "name": "stdout",
     "output_type": "stream",
     "text": [
      "20\n",
      "40\n",
      "60\n",
      "80\n",
      "100\n"
     ]
    }
   ],
   "source": [
    "lst = [10, 20, 30, 40, 50, 60, 70, 80, 90, 100]\n",
    "for i in lst :\n",
    "    if (lst.index(i)) % 2 != 0:\n",
    "        print(i)\n",
    "    else:\n",
    "        continue\n",
    "    "
   ]
  },
  {
   "cell_type": "markdown",
   "id": "9b9f192f",
   "metadata": {},
   "source": [
    "### Q7- Write program to print the following pattern using loop."
   ]
  },
  {
   "cell_type": "code",
   "execution_count": 51,
   "id": "b5f28c68",
   "metadata": {},
   "outputs": [
    {
     "name": "stdout",
     "output_type": "stream",
     "text": [
      "1\n",
      "12\n",
      "123\n",
      "1234\n"
     ]
    }
   ],
   "source": [
    "rows = 4\n",
    "for i in range(1, rows + 1):\n",
    "    for j in range(1, i + 1):\n",
    "        print(j,end='')\n",
    "    print('')    "
   ]
  },
  {
   "cell_type": "markdown",
   "id": "57c89af1",
   "metadata": {},
   "source": [
    "### Q8 - Write a program that keep on accepting number from the user until user enters Zero. Display thesum and average of all the numbers."
   ]
  },
  {
   "cell_type": "code",
   "execution_count": 58,
   "id": "224ace20",
   "metadata": {},
   "outputs": [
    {
     "name": "stdout",
     "output_type": "stream",
     "text": [
      "1 \n",
      "2\n",
      "3\n",
      "0\n",
      "Sum of all numbers = 6\n",
      "Average of all numbers = 2.0\n"
     ]
    }
   ],
   "source": [
    "lst=[]\n",
    "s = 0\n",
    "count = 0 \n",
    "while (True):\n",
    "    x = int(input())\n",
    "    lst.append(x)\n",
    "    if x == 0:\n",
    "        break\n",
    "\n",
    "for i in lst:\n",
    "    s+=i\n",
    "    count+=1\n",
    "print(f\"Sum of all numbers = {s}\")\n",
    "print(f\"Average of all numbers = {s/(count - 1)}\")"
   ]
  },
  {
   "cell_type": "markdown",
   "id": "085e6b36",
   "metadata": {},
   "source": [
    "### Q9- Generate a Python list of all the even numbers between 4 to 30"
   ]
  },
  {
   "cell_type": "code",
   "execution_count": 59,
   "id": "7d5dec0e",
   "metadata": {},
   "outputs": [
    {
     "name": "stdout",
     "output_type": "stream",
     "text": [
      "[4, 6, 8, 10, 12, 14, 16, 18, 20, 22, 24, 26, 28, 30]\n"
     ]
    }
   ],
   "source": [
    "lst=[]\n",
    "for i in range (4,31):\n",
    "    if i % 2 == 0:\n",
    "        lst.append(i)\n",
    "    else:\n",
    "        continue\n",
    "print(lst)"
   ]
  },
  {
   "cell_type": "markdown",
   "id": "11c3b9bf",
   "metadata": {},
   "source": [
    "### Q10- Make Method to Return the Maximum and Minimum item from the given list.lst=[100,30,22,40,60,20,10,300]"
   ]
  },
  {
   "cell_type": "code",
   "execution_count": 60,
   "id": "4602d893",
   "metadata": {},
   "outputs": [
    {
     "data": {
      "text/plain": [
       "(300, 10)"
      ]
     },
     "execution_count": 60,
     "metadata": {},
     "output_type": "execute_result"
    }
   ],
   "source": [
    "def max_min(x):\n",
    "    return max(x),min(x)\n",
    "lst=[100,30,22,40,60,20,10,300]\n",
    "max_min(lst)"
   ]
  },
  {
   "cell_type": "markdown",
   "id": "4711ce50",
   "metadata": {},
   "source": [
    "### https://www.hackerrank.com/challenges/python-loops/problem"
   ]
  },
  {
   "cell_type": "code",
   "execution_count": 63,
   "id": "7640ce87",
   "metadata": {},
   "outputs": [
    {
     "name": "stdout",
     "output_type": "stream",
     "text": [
      "Enter your number: 3\n",
      "0\n",
      "1\n",
      "4\n"
     ]
    }
   ],
   "source": [
    "n= int(input(\"Enter your number: \"))\n",
    "for i in range (0,n):\n",
    "    x = i**2\n",
    "    print(x)"
   ]
  },
  {
   "cell_type": "markdown",
   "id": "eca5b414",
   "metadata": {},
   "source": [
    "### https://www.hackerrank.com/challenges/write-a-function/problem"
   ]
  },
  {
   "cell_type": "code",
   "execution_count": 67,
   "id": "9d839262",
   "metadata": {},
   "outputs": [
    {
     "name": "stdout",
     "output_type": "stream",
     "text": [
      "Enter the year : 2004\n",
      "True\n"
     ]
    }
   ],
   "source": [
    "def is_leap(x):\n",
    "    x = int(input(\"Enter the year : \"))\n",
    "    if x % 4 == 0:\n",
    "        print(\"True\")\n",
    "    else:\n",
    "        print(\"False\")\n",
    "        \n",
    "is_leap(x)"
   ]
  },
  {
   "cell_type": "markdown",
   "id": "122aee8e",
   "metadata": {},
   "source": [
    "### https://www.hackerrank.com/challenges/py-if-else/problem"
   ]
  },
  {
   "cell_type": "code",
   "execution_count": 77,
   "id": "a0f19f90",
   "metadata": {},
   "outputs": [
    {
     "name": "stdout",
     "output_type": "stream",
     "text": [
      "Enter your num : 21\n",
      "Weird\n"
     ]
    }
   ],
   "source": [
    "num = int(input(\"Enter your num : \"))\n",
    "if num % 2 != 0:\n",
    "    print(\"Weird\")\n",
    "elif num % 2 == 0 & 2 <= num <=5:\n",
    "    print(\"Not Weird\")\n",
    "elif num % 2 == 0 & 6 <= num <=20:\n",
    "    print(\"Weird\")\n",
    "elif num>20:\n",
    "    print(\"Not Weird\")"
   ]
  }
 ],
 "metadata": {
  "kernelspec": {
   "display_name": "Python 3 (ipykernel)",
   "language": "python",
   "name": "python3"
  },
  "language_info": {
   "codemirror_mode": {
    "name": "ipython",
    "version": 3
   },
   "file_extension": ".py",
   "mimetype": "text/x-python",
   "name": "python",
   "nbconvert_exporter": "python",
   "pygments_lexer": "ipython3",
   "version": "3.9.7"
  }
 },
 "nbformat": 4,
 "nbformat_minor": 5
}

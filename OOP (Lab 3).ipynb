{
 "cells": [
  {
   "cell_type": "markdown",
   "id": "a0d1ab44",
   "metadata": {},
   "source": [
    "### Q1 Create a Vehicle class with name, max_speed and mileage instance attributes."
   ]
  },
  {
   "cell_type": "code",
   "execution_count": 22,
   "id": "0b61e8bf",
   "metadata": {},
   "outputs": [],
   "source": [
    "class Vehicle:\n",
    "     def __init__(self, name, max_speed, mileage):\n",
    "        self.name = name\n",
    "        self.max_speed = max_speed\n",
    "        self.mileage = mileage  "
   ]
  },
  {
   "cell_type": "markdown",
   "id": "fca0c28e",
   "metadata": {},
   "source": [
    "### Q2 Create a child class Bus that will inherit all of the attributes and methods of the Vehicle class."
   ]
  },
  {
   "cell_type": "code",
   "execution_count": 23,
   "id": "f3eebbe7",
   "metadata": {},
   "outputs": [],
   "source": [
    "class Bus(Vehicle):\n",
    "    pass"
   ]
  },
  {
   "cell_type": "markdown",
   "id": "8a69424a",
   "metadata": {},
   "source": [
    "### Q3 Add a function seating_capacity to the vehicle class that takes as an argument the capacity of the vehicle and returns the following formatted string \"The seating capacity of a {<vehicle_name>} is {capacity} passengers\""
   ]
  },
  {
   "cell_type": "code",
   "execution_count": 24,
   "id": "55ecd91d",
   "metadata": {},
   "outputs": [],
   "source": [
    "class Vehicle:\n",
    "    def __init__(self, name, max_speed, mileage):\n",
    "        self.name = name\n",
    "        self.max_speed = max_speed\n",
    "        self.mileage = mileage\n",
    "\n",
    "    def seating_capacity(self, capacity):\n",
    "        return f\"The seating capacity of a {self.name} is {capacity} passengers\""
   ]
  },
  {
   "cell_type": "markdown",
   "id": "53fc51d5",
   "metadata": {},
   "source": [
    "### Q4 override the function seating_capacity in the Bus class to give the capacity argument a default value of 50."
   ]
  },
  {
   "cell_type": "code",
   "execution_count": 28,
   "id": "6bef4a6c",
   "metadata": {},
   "outputs": [
    {
     "name": "stdout",
     "output_type": "stream",
     "text": [
      "The seating capacity of a Bus is 50 passengers\n",
      "The seating capacity of a Bus is 60 passengers\n"
     ]
    }
   ],
   "source": [
    "class Vehicle:\n",
    "    def __init__(self, name, max_speed, mileage):\n",
    "        self.name = name\n",
    "        self.max_speed = max_speed\n",
    "        self.mileage = mileage\n",
    "\n",
    "    def seating_capacity(self, capacity):\n",
    "        return f\"The seating capacity of a {self.name} is {capacity} passengers\"\n",
    "\n",
    "\n",
    "class Bus(Vehicle):\n",
    "    def seating_capacity(self, capacity=50):\n",
    "        return f\"The seating capacity of a {self.name} is {capacity} passengers\"\n",
    "    \n",
    "print(bus.seating_capacity())\n",
    "\n",
    "print(bus.seating_capacity(60))"
   ]
  },
  {
   "cell_type": "markdown",
   "id": "664d8446",
   "metadata": {},
   "source": [
    "### Q5 Add an instance variable to the Bus class called capacity and give it a default value of 50."
   ]
  },
  {
   "cell_type": "code",
   "execution_count": 27,
   "id": "10c4fe63",
   "metadata": {},
   "outputs": [],
   "source": [
    "class Bus(Vehicle):\n",
    "    def __init__(self, name, max_speed, mileage):\n",
    "        super().__init__(name, max_speed, mileage)\n",
    "        self.capacity = 50\n",
    "\n",
    "    def seating_capacity(self, capacity=None):\n",
    "        if capacity is None:\n",
    "            capacity = self.capacity\n",
    "        return f\"The seating capacity of a {self.name} is {capacity} passengers\""
   ]
  },
  {
   "cell_type": "markdown",
   "id": "9580a9b4",
   "metadata": {},
   "source": [
    "### Q6 Create a function fare() in the Bus class that calculates the renting fare of the bus per day according to the following equation. Fare = capacity *100"
   ]
  },
  {
   "cell_type": "code",
   "execution_count": 18,
   "id": "a654b96f",
   "metadata": {},
   "outputs": [],
   "source": [
    "class Bus(Vehicle):\n",
    "    def __init__(self, name, max_speed, mileage):\n",
    "        super().__init__(name, max_speed, mileage)\n",
    "        self.capacity = 50\n",
    "\n",
    "    def seating_capacity(self, capacity=None):\n",
    "        if capacity is None:\n",
    "            capacity = self.capacity\n",
    "        return f\"The seating capacity of a {self.name} is {capacity} passengers\"\n",
    "\n",
    "    def fare(self):\n",
    "        return self.capacity * 100"
   ]
  },
  {
   "cell_type": "markdown",
   "id": "903107e7",
   "metadata": {},
   "source": [
    "### Create a class that represents shape which will have methods to calculate circumference and area, then create children classes, such as square, triangle, circle.\n",
    "### Should the shape class be abstract or not? (Yes)"
   ]
  },
  {
   "cell_type": "code",
   "execution_count": 29,
   "id": "60e5cc81",
   "metadata": {},
   "outputs": [],
   "source": [
    "import math\n",
    "class Shape:\n",
    "    def calculate_circumference(self):\n",
    "        pass\n",
    "\n",
    "    def calculate_area(self):\n",
    "        pass\n",
    "\n",
    "\n",
    "class Square(Shape):\n",
    "    def __init__(self, x):\n",
    "        self.x = x\n",
    "\n",
    "    def calculate_circumference(self):\n",
    "        return self.x*4\n",
    "    \n",
    "    def calculate_area(self):\n",
    "        return self.x*self.x\n",
    "\n",
    "\n",
    "class Triangle(Shape):\n",
    "    def __init__(self, base, height, side1, side2, side3):\n",
    "        self.base = base\n",
    "        self.height = height\n",
    "        self.side1 = side1\n",
    "        self.side2 = side2\n",
    "        self.side3 = side3\n",
    "\n",
    "    def calculate_circumference(self):\n",
    "        return self.side1 + self.side2 + self.side3\n",
    "    \n",
    "    def calculate_area(self):\n",
    "        return 0.5 * self.base * self.height\n",
    "    \n",
    "\n",
    "class Circle(Shape):\n",
    "    def __init__(self , r):\n",
    "        self.r=r\n",
    "        \n",
    "    def calculate_circumference(self):\n",
    "        return 2 * math.pi * self.r\n",
    "    \n",
    "    def calculate_area(self):\n",
    "        return math.pi * r**2"
   ]
  },
  {
   "cell_type": "code",
   "execution_count": 30,
   "id": "b0272103",
   "metadata": {},
   "outputs": [
    {
     "name": "stdout",
     "output_type": "stream",
     "text": [
      "Square circumference: 20\n",
      "Square Area: 25\n"
     ]
    }
   ],
   "source": [
    "x=5\n",
    "obj1 = Square(x)\n",
    "square_circumference = obj1.calculate_circumference()\n",
    "square_area = obj1.calculate_area()\n",
    "\n",
    "print(\"Square circumference:\", square_circumference)\n",
    "print(\"Square Area:\", square_area)"
   ]
  },
  {
   "cell_type": "code",
   "execution_count": 31,
   "id": "5f513249",
   "metadata": {},
   "outputs": [
    {
     "name": "stdout",
     "output_type": "stream",
     "text": [
      "Triangle circumference: 16\n",
      "Triangle Area: 24.0\n"
     ]
    }
   ],
   "source": [
    "base = 6\n",
    "height = 8\n",
    "side1 = 6\n",
    "side2 = 5\n",
    "side3 = 5\n",
    "obj2 = Triangle(base, height, side1, side2, side3)\n",
    "triangle_circumference = obj2.calculate_circumference()\n",
    "triangle_area = obj2.calculate_area()\n",
    "\n",
    "print(\"Triangle circumference:\", triangle_circumference)\n",
    "print(\"Triangle Area:\", triangle_area)"
   ]
  },
  {
   "cell_type": "code",
   "execution_count": 32,
   "id": "a5ba2040",
   "metadata": {},
   "outputs": [
    {
     "name": "stdout",
     "output_type": "stream",
     "text": [
      "Circle circumference: 43.982297150257104\n",
      "Circle Area: 153.93804002589985\n"
     ]
    }
   ],
   "source": [
    "r = 7\n",
    "circle = Circle(r)\n",
    "circle_area = circle.calculate_area()\n",
    "circle_circumference = circle.calculate_circumference()\n",
    "\n",
    "print(\"Circle circumference:\", circle_circumference)\n",
    "print(\"Circle Area:\", circle_area)"
   ]
  },
  {
   "cell_type": "code",
   "execution_count": null,
   "id": "cbe263ff",
   "metadata": {},
   "outputs": [],
   "source": []
  }
 ],
 "metadata": {
  "kernelspec": {
   "display_name": "Python 3 (ipykernel)",
   "language": "python",
   "name": "python3"
  },
  "language_info": {
   "codemirror_mode": {
    "name": "ipython",
    "version": 3
   },
   "file_extension": ".py",
   "mimetype": "text/x-python",
   "name": "python",
   "nbconvert_exporter": "python",
   "pygments_lexer": "ipython3",
   "version": "3.9.7"
  }
 },
 "nbformat": 4,
 "nbformat_minor": 5
}

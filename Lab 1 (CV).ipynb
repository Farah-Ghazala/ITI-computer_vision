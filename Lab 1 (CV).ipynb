{
 "cells": [
  {
   "cell_type": "code",
   "execution_count": 16,
   "id": "6e76812d",
   "metadata": {},
   "outputs": [],
   "source": [
    "import cv2 as cv\n",
    "import numpy as np\n",
    "import matplotlib.pyplot as plt"
   ]
  },
  {
   "cell_type": "markdown",
   "id": "2bfe8af7",
   "metadata": {},
   "source": [
    "### read “Task_in” image and then print image shape ,plot the image using \n",
    "### matplotlib and opencv then edit the right corner pixel to be red color then save the \n",
    "### image as (.jpg,.npg) to your current folder name it “my_image.png” then read both \n",
    "### image again. “Make your observation”.\n",
    "### Image link: image link"
   ]
  },
  {
   "cell_type": "code",
   "execution_count": 17,
   "id": "4ef63f4a",
   "metadata": {},
   "outputs": [
    {
     "name": "stdout",
     "output_type": "stream",
     "text": [
      "(21, 21, 3)\n"
     ]
    }
   ],
   "source": [
    "img = cv.imread('Task_in.jpg')\n",
    "print(img.shape)"
   ]
  },
  {
   "cell_type": "code",
   "execution_count": 18,
   "id": "307b0fde",
   "metadata": {},
   "outputs": [
    {
     "data": {
      "text/plain": [
       "<matplotlib.image.AxesImage at 0x26527e7cc70>"
      ]
     },
     "execution_count": 18,
     "metadata": {},
     "output_type": "execute_result"
    },
    {
     "data": {
      "image/png": "[encoded data removed]",
      "text/plain": [
       "<Figure size 432x288 with 1 Axes>"
      ]
     },
     "metadata": {
      "needs_background": "light"
     },
     "output_type": "display_data"
    }
   ],
   "source": [
    "img2=cv.cvtColor(img,cv.COLOR_BGR2RGB)\n",
    "plt.imshow(img2)"
   ]
  },
  {
   "cell_type": "code",
   "execution_count": 23,
   "id": "a641dde0",
   "metadata": {},
   "outputs": [],
   "source": [
    "cv.imshow('Image',img)\n",
    "k = cv.waitKey(0)\n",
    "cv.destroyAllWindows()"
   ]
  },
  {
   "cell_type": "code",
   "execution_count": 24,
   "id": "f107ecad",
   "metadata": {},
   "outputs": [
    {
     "data": {
      "text/plain": [
       "113"
      ]
     },
     "execution_count": 24,
     "metadata": {},
     "output_type": "execute_result"
    }
   ],
   "source": [
    "k"
   ]
  },
  {
   "cell_type": "code",
   "execution_count": 25,
   "id": "e3c9a5a7",
   "metadata": {},
   "outputs": [],
   "source": [
    "img[-1,-1]=[0,0,255]"
   ]
  },
  {
   "cell_type": "code",
   "execution_count": 26,
   "id": "7ebfc0dd",
   "metadata": {},
   "outputs": [
    {
     "data": {
      "text/plain": [
       "<matplotlib.image.AxesImage at 0x2652891fc40>"
      ]
     },
     "execution_count": 26,
     "metadata": {},
     "output_type": "execute_result"
    },
    {
     "data": {
      "image/png": "[encoded data removed]",
      "text/plain": [
       "<Figure size 432x288 with 1 Axes>"
      ]
     },
     "metadata": {
      "needs_background": "light"
     },
     "output_type": "display_data"
    }
   ],
   "source": [
    "plt.imshow(cv.cvtColor(img,cv.COLOR_BGR2RGB))"
   ]
  },
  {
   "cell_type": "code",
   "execution_count": 28,
   "id": "81c62b36",
   "metadata": {},
   "outputs": [
    {
     "data": {
      "text/plain": [
       "True"
      ]
     },
     "execution_count": 28,
     "metadata": {},
     "output_type": "execute_result"
    }
   ],
   "source": [
    "cv.imwrite('Task_in.jpg',img)\n",
    "cv.imwrite('my_image.png',img)"
   ]
  },
  {
   "cell_type": "code",
   "execution_count": 29,
   "id": "41e1a5c4",
   "metadata": {},
   "outputs": [
    {
     "data": {
      "text/plain": [
       "<matplotlib.image.AxesImage at 0x26528992fd0>"
      ]
     },
     "execution_count": 29,
     "metadata": {},
     "output_type": "execute_result"
    },
    {
     "data": {
      "image/png": "[encoded data removed]",
      "text/plain": [
       "<Figure size 432x288 with 1 Axes>"
      ]
     },
     "metadata": {
      "needs_background": "light"
     },
     "output_type": "display_data"
    }
   ],
   "source": [
    "image_jpg = cv.imread('Task_in.jpg')\n",
    "plt.imshow(cv.cvtColor(image_jpg,cv.COLOR_BGR2RGB))"
   ]
  },
  {
   "cell_type": "code",
   "execution_count": 30,
   "id": "e419b764",
   "metadata": {},
   "outputs": [
    {
     "data": {
      "text/plain": [
       "<matplotlib.image.AxesImage at 0x26528a12130>"
      ]
     },
     "execution_count": 30,
     "metadata": {},
     "output_type": "execute_result"
    },
    {
     "data": {
      "image/png": "[encoded data removed]",
      "text/plain": [
       "<Figure size 432x288 with 1 Axes>"
      ]
     },
     "metadata": {
      "needs_background": "light"
     },
     "output_type": "display_data"
    }
   ],
   "source": [
    "image_png = cv.imread('my_image.png')\n",
    "plt.imshow(cv.cvtColor(image_png,cv.COLOR_BGR2RGB))"
   ]
  },
  {
   "cell_type": "markdown",
   "id": "02a78643",
   "metadata": {},
   "source": [
    "### My observation is the image with (my_image.png) is clearer than the image with (Task_in.jpg)\n",
    "### It is clear in the red pixels"
   ]
  },
  {
   "cell_type": "code",
   "execution_count": null,
   "id": "622c7c9d",
   "metadata": {},
   "outputs": [],
   "source": []
  },
  {
   "cell_type": "markdown",
   "id": "b4758c29",
   "metadata": {},
   "source": [
    "### make 51* 51* 3 RGB image with Blue color then save it as”Blue.jpg”"
   ]
  },
  {
   "cell_type": "code",
   "execution_count": 35,
   "id": "8e9ce8c8",
   "metadata": {},
   "outputs": [
    {
     "data": {
      "text/plain": [
       "True"
      ]
     },
     "execution_count": 35,
     "metadata": {},
     "output_type": "execute_result"
    },
    {
     "data": {
      "image/png": "[encoded data removed]",
      "text/plain": [
       "<Figure size 432x288 with 1 Axes>"
      ]
     },
     "metadata": {
      "needs_background": "light"
     },
     "output_type": "display_data"
    }
   ],
   "source": [
    "img = np.array((51,51,3), np.uint8)\n",
    "img2 = cv.cvtColor(img,cv.COLOR_BGR2RGB)\n",
    "img2[:] = [0,0,255]\n",
    "plt.imshow(img2)\n",
    "\n",
    "cv.imwrite('Blue.jpg', img2)"
   ]
  },
  {
   "cell_type": "markdown",
   "id": "e678350e",
   "metadata": {},
   "source": [
    "### Make trackbar for rgb colors with window “colors”"
   ]
  },
  {
   "cell_type": "code",
   "execution_count": 37,
   "id": "33385f21",
   "metadata": {},
   "outputs": [
    {
     "name": "stdout",
     "output_type": "stream",
     "text": [
      "1\n",
      "4\n",
      "10\n",
      "19\n",
      "23\n",
      "26\n",
      "30\n",
      "37\n",
      "41\n",
      "43\n",
      "50\n",
      "53\n",
      "55\n",
      "57\n",
      "59\n",
      "60\n",
      "62\n",
      "63\n",
      "65\n",
      "66\n",
      "68\n",
      "70\n",
      "71\n",
      "74\n",
      "76\n",
      "77\n",
      "81\n",
      "83\n",
      "85\n",
      "88\n",
      "89\n",
      "91\n",
      "92\n",
      "90\n",
      "85\n",
      "83\n",
      "77\n",
      "73\n",
      "68\n",
      "62\n",
      "53\n",
      "45\n",
      "38\n",
      "34\n",
      "30\n",
      "26\n",
      "23\n",
      "20\n",
      "17\n",
      "14\n",
      "9\n",
      "7\n",
      "4\n",
      "1\n",
      "0\n",
      "4\n",
      "7\n",
      "10\n",
      "17\n",
      "21\n",
      "25\n",
      "30\n",
      "36\n",
      "42\n",
      "47\n",
      "51\n",
      "56\n",
      "68\n",
      "73\n",
      "77\n",
      "80\n",
      "83\n",
      "87\n",
      "89\n",
      "90\n",
      "91\n",
      "95\n",
      "97\n",
      "102\n",
      "109\n",
      "112\n",
      "114\n",
      "118\n",
      "119\n",
      "120\n",
      "121\n",
      "123\n",
      "127\n",
      "130\n",
      "134\n",
      "139\n",
      "142\n",
      "143\n",
      "145\n",
      "147\n",
      "148\n",
      "149\n",
      "150\n",
      "151\n",
      "149\n",
      "146\n",
      "144\n",
      "141\n",
      "137\n",
      "132\n",
      "127\n",
      "123\n",
      "117\n",
      "113\n",
      "109\n",
      "106\n",
      "101\n",
      "96\n",
      "89\n",
      "83\n",
      "72\n",
      "66\n",
      "61\n",
      "54\n",
      "46\n",
      "38\n",
      "26\n",
      "11\n",
      "4\n",
      "0\n",
      "51\n",
      "102\n",
      "1\n",
      "4\n",
      "9\n",
      "19\n",
      "27\n",
      "41\n",
      "54\n",
      "59\n",
      "65\n",
      "71\n",
      "77\n",
      "80\n",
      "85\n",
      "91\n",
      "97\n",
      "106\n",
      "117\n",
      "128\n",
      "137\n",
      "143\n",
      "149\n",
      "153\n",
      "158\n",
      "162\n",
      "174\n",
      "187\n",
      "190\n",
      "195\n",
      "196\n",
      "199\n",
      "201\n",
      "202\n",
      "204\n",
      "207\n",
      "208\n",
      "210\n",
      "211\n",
      "1\n",
      "4\n",
      "15\n",
      "25\n",
      "33\n",
      "34\n",
      "36\n",
      "37\n",
      "38\n",
      "39\n",
      "40\n",
      "42\n",
      "44\n",
      "45\n",
      "46\n",
      "48\n",
      "49\n",
      "50\n",
      "51\n",
      "53\n",
      "54\n",
      "56\n",
      "59\n",
      "61\n",
      "62\n",
      "65\n",
      "66\n",
      "67\n",
      "68\n",
      "119\n",
      "208\n",
      "204\n",
      "199\n",
      "191\n",
      "178\n",
      "168\n",
      "152\n",
      "141\n",
      "131\n",
      "117\n",
      "104\n",
      "97\n",
      "89\n",
      "83\n",
      "79\n",
      "74\n",
      "71\n",
      "67\n",
      "65\n",
      "64\n",
      "63\n",
      "62\n",
      "break the loop\n"
     ]
    }
   ],
   "source": [
    "def nothing(x):\n",
    "    print(x)\n",
    "    \n",
    "cv.namedWindow('colors')\n",
    "\n",
    "cv.createTrackbar(\"Blue\",\"colors\",0,255,nothing)\n",
    "cv.createTrackbar(\"Green\",\"colors\",0,255,nothing)\n",
    "cv.createTrackbar(\"Red\",\"colors\",0,255,nothing)\n",
    "\n",
    "image = np.zeros((500,500,3), np.uint8)\n",
    "\n",
    "while (1):\n",
    "    B = cv.getTrackbarPos(\"Blue\",\"colors\")\n",
    "    G = cv.getTrackbarPos(\"Green\",\"colors\")\n",
    "    R = cv.getTrackbarPos(\"Red\",\"colors\")\n",
    "    \n",
    "    image[:] = [B,G,R]\n",
    "    \n",
    "    cv.imshow(\"colors\", image)\n",
    "    \n",
    "    k = cv.waitKey(1)\n",
    "    if k==ord('q'):\n",
    "        print(\"break the loop\")\n",
    "        break\n",
    "        \n",
    "cv.destroyAllWindows()"
   ]
  },
  {
   "cell_type": "code",
   "execution_count": null,
   "id": "5fb2d062",
   "metadata": {},
   "outputs": [],
   "source": []
  }
 ],
 "metadata": {
  "kernelspec": {
   "display_name": "Python 3 (ipykernel)",
   "language": "python",
   "name": "python3"
  },
  "language_info": {
   "codemirror_mode": {
    "name": "ipython",
    "version": 3
   },
   "file_extension": ".py",
   "mimetype": "text/x-python",
   "name": "python",
   "nbconvert_exporter": "python",
   "pygments_lexer": "ipython3",
   "version": "3.9.7"
  }
 },
 "nbformat": 4,
 "nbformat_minor": 5
}

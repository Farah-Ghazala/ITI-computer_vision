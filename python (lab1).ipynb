{
 "cells": [
  {
   "cell_type": "markdown",
   "id": "8a501122",
   "metadata": {},
   "source": [
    "1)\n",
    "Write a python code that ask the user to enter his birth year and then print his age in years.\n"
   ]
  },
  {
   "cell_type": "code",
   "execution_count": 2,
   "id": "5f5ec07b",
   "metadata": {},
   "outputs": [
    {
     "name": "stdout",
     "output_type": "stream",
     "text": [
      "Please enter your birth year: 2002\n",
      "You are 21 Years Old\n"
     ]
    }
   ],
   "source": [
    "x=int(input(\"Please enter your birth year: \"))\n",
    "res = 2023-x\n",
    "print(f\"You are {res} Years Old\")"
   ]
  },
  {
   "cell_type": "markdown",
   "id": "8df91a38",
   "metadata": {},
   "source": [
    "2) \n",
    "Write a python code to find Sum and Average of N\n",
    "Natural Numbers"
   ]
  },
  {
   "cell_type": "code",
   "execution_count": 3,
   "id": "fcb93520",
   "metadata": {},
   "outputs": [
    {
     "name": "stdout",
     "output_type": "stream",
     "text": [
      "Please Enter any Number: 50\n",
      "The Sum of Natural Numbers from 1 to 50 = 1275\n",
      "Average of Natural numbers from 1 to 50 = 25.5\n"
     ]
    }
   ],
   "source": [
    "num=int(input(\"Please Enter any Number: \"))\n",
    "s=0\n",
    "for i in range (1, num+1):\n",
    "    s+= i\n",
    "    \n",
    "avr = s/num\n",
    "print(f\"The Sum of Natural Numbers from 1 to {num} = {s}\")\n",
    "print(f\"Average of Natural numbers from 1 to {num} = {avr}\")"
   ]
  },
  {
   "cell_type": "markdown",
   "id": "d7174a1d",
   "metadata": {},
   "source": [
    "3)\n",
    "Python Program to Check Even or Odd"
   ]
  },
  {
   "cell_type": "code",
   "execution_count": 6,
   "id": "92e33d9e",
   "metadata": {},
   "outputs": [
    {
     "name": "stdout",
     "output_type": "stream",
     "text": [
      "Enter 'q' for exit.\n",
      "Enter any number: 9\n",
      "9 is an odd number.\n",
      "Enter 'q' for exit. \n",
      "Enter any number: 8\n",
      "8 is an even number.\n",
      "Enter 'q' for exit. q\n"
     ]
    }
   ],
   "source": [
    "x = input(\"Enter 'q' for exit.\")\n",
    "while (x != 'q'):\n",
    "    \n",
    "    num = int(input(\"Enter any number: \"))\n",
    "    \n",
    "    if num%2 == 0:\n",
    "        print(f\"{num} is an even number.\")\n",
    "\n",
    "    else :\n",
    "        print(f\"{num} is an odd number.\")\n",
    "        \n",
    "    x = input(\"Enter 'q' for exit. \")\n"
   ]
  },
  {
   "cell_type": "markdown",
   "id": "1c62cace",
   "metadata": {},
   "source": [
    "4- \n",
    "https://www.hackerrank.com/challenges/whats-your-name/problem"
   ]
  },
  {
   "cell_type": "code",
   "execution_count": 7,
   "id": "89d2e21f",
   "metadata": {},
   "outputs": [
    {
     "name": "stdout",
     "output_type": "stream",
     "text": [
      "Farah\n",
      "Ghazala\n",
      "Hello Farah Ghazala! You just delved into python.\n"
     ]
    }
   ],
   "source": [
    "first_n = input()\n",
    "last_n = input()\n",
    "print(f\"Hello {first_n} {last_n}! You just delved into python.\")"
   ]
  },
  {
   "cell_type": "markdown",
   "id": "ff14073a",
   "metadata": {},
   "source": [
    "5- \n",
    "https://www.hackerrank.com/challenges/python-string-split-and-join/\n",
    "problem"
   ]
  },
  {
   "cell_type": "code",
   "execution_count": 11,
   "id": "90c4784b",
   "metadata": {},
   "outputs": [
    {
     "name": "stdout",
     "output_type": "stream",
     "text": [
      "my name is farah\n",
      "my-name-is-farah\n"
     ]
    }
   ],
   "source": [
    "string = input()\n",
    "string = string.split(\" \")\n",
    "string = '-'.join(string)\n",
    "print(string)"
   ]
  },
  {
   "cell_type": "markdown",
   "id": "e6402092",
   "metadata": {},
   "source": [
    "6- https://www.hackerrank.com/challenges/swap-case/problem"
   ]
  },
  {
   "cell_type": "code",
   "execution_count": 15,
   "id": "cf1ca47a",
   "metadata": {},
   "outputs": [
    {
     "name": "stdout",
     "output_type": "stream",
     "text": [
      "FARah\n",
      "farAH\n"
     ]
    }
   ],
   "source": [
    "y = input()\n",
    "string=\"\"\n",
    "for i in y:\n",
    "    if i.isupper() == True:\n",
    "        string+= i.lower()\n",
    "    else:\n",
    "        string+= i.upper()\n",
    "        \n",
    "print(string)"
   ]
  },
  {
   "cell_type": "code",
   "execution_count": 16,
   "id": "2044fbac",
   "metadata": {},
   "outputs": [
    {
     "name": "stdout",
     "output_type": "stream",
     "text": [
      "farAh\n",
      "FARaH\n"
     ]
    }
   ],
   "source": [
    "y = input()\n",
    "y = y.swapcase()\n",
    "print(y)"
   ]
  },
  {
   "cell_type": "markdown",
   "id": "922a0a2b",
   "metadata": {},
   "source": [
    "7- \n",
    "Implement a code that takes as an input ASCII code for \n",
    "some characters and combine them to form a string."
   ]
  },
  {
   "cell_type": "code",
   "execution_count": 2,
   "id": "f9e01900",
   "metadata": {},
   "outputs": [
    {
     "name": "stdout",
     "output_type": "stream",
     "text": [
      "73\n",
      "Enter q to exit : \n",
      "84\n",
      "Enter q to exit : \n",
      "73\n",
      "Enter q to exit : q\n",
      "ITI\n",
      "[73, 84, 73]\n"
     ]
    }
   ],
   "source": [
    "my_list = []\n",
    "\n",
    "while True:\n",
    "    x = int(input())\n",
    "    my_list.append(x)\n",
    "    \n",
    "    exit = input(\"Enter q to exit : \")\n",
    "    if exit == 'q':\n",
    "        break\n",
    "        \n",
    "    else:\n",
    "        continue\n",
    "  \n",
    "result = ''.join(chr(i) for i in my_list)\n",
    "    \n",
    "print(result)\n",
    "print(my_list)\n"
   ]
  },
  {
   "cell_type": "code",
   "execution_count": null,
   "id": "6760ebb0",
   "metadata": {},
   "outputs": [],
   "source": [
    "8- \n",
    "Write a Python program which accepts the radius of a circle \n",
    "from the user and compute the area."
   ]
  },
  {
   "cell_type": "code",
   "execution_count": 17,
   "id": "c2ffc21e",
   "metadata": {},
   "outputs": [
    {
     "name": "stdout",
     "output_type": "stream",
     "text": [
      "3\n",
      "28.259999999999998\n"
     ]
    }
   ],
   "source": [
    "py=3.14\n",
    "r = int(input())\n",
    "area = py*r*r\n",
    "print(area)"
   ]
  },
  {
   "cell_type": "markdown",
   "id": "c4a06c71",
   "metadata": {},
   "source": [
    "9- \n",
    "Write a Python program which accepts the user's first and \n",
    "last name and print them in reverse order with a space between \n",
    "them."
   ]
  },
  {
   "cell_type": "code",
   "execution_count": 1,
   "id": "9f2a9368",
   "metadata": {},
   "outputs": [
    {
     "name": "stdout",
     "output_type": "stream",
     "text": [
      "farah\n",
      "ghazala\n",
      "ghazala farah\n"
     ]
    }
   ],
   "source": [
    "F_name=input()\n",
    "L_name=input()\n",
    "print(L_name + \" \" + F_name)"
   ]
  },
  {
   "cell_type": "markdown",
   "id": "8cea1a8b",
   "metadata": {},
   "source": [
    "10-\n",
    "Write a Python program to print the following string in a \n",
    "specific format with one variable name.\n",
    "name= ‘Twinkle’ (string)"
   ]
  },
  {
   "cell_type": "code",
   "execution_count": 10,
   "id": "3861bc33",
   "metadata": {},
   "outputs": [
    {
     "name": "stdout",
     "output_type": "stream",
     "text": [
      "Twinkle, twinkle, little star, \n",
      "\tHow I wonder what you are! \n",
      "\t\tUp above the world so high, \n",
      "\t\tLike a diamond in the sky. \n",
      "Twinkle, twinkle, little star, \n",
      "\tHow I wonder what you are!\n"
     ]
    }
   ],
   "source": [
    "print(\"Twinkle, twinkle, little star, \\n\\tHow I wonder what you are! \\n\\t\\tUp above the world so high, \\n\\t\\tLike a diamond in the sky. \\nTwinkle, twinkle, little star, \\n\\tHow I wonder what you are!\")"
   ]
  },
  {
   "cell_type": "code",
   "execution_count": 9,
   "id": "92c458e1",
   "metadata": {},
   "outputs": [
    {
     "name": "stdout",
     "output_type": "stream",
     "text": [
      "\n",
      "Twinkle, twinkle, little star,\n",
      "        How I wonder what you are!\n",
      "                 Up above the world so high,\n",
      "                 Like a diamond in the sky.\n",
      "Twinkle, twinkle, little star,\n",
      "        How I wonder what you are\n"
     ]
    }
   ],
   "source": [
    "Twinkle =\"\"\"\n",
    "Twinkle, twinkle, little star,\n",
    "        How I wonder what you are!\n",
    "                 Up above the world so high,\n",
    "                 Like a diamond in the sky.\n",
    "Twinkle, twinkle, little star,\n",
    "        How I wonder what you are\"\"\"\n",
    "\n",
    "print(Twinkle)"
   ]
  },
  {
   "cell_type": "markdown",
   "id": "6af06814",
   "metadata": {},
   "source": [
    "11-\n",
    "Find the numbers Between 1 and 100 that are multiples of 3 and 5 (such as 15 30 45 …)\n"
   ]
  },
  {
   "cell_type": "code",
   "execution_count": 22,
   "id": "a605f5cd",
   "metadata": {},
   "outputs": [
    {
     "name": "stdout",
     "output_type": "stream",
     "text": [
      "[15, 30, 45, 60, 75, 90]\n"
     ]
    }
   ],
   "source": [
    "my_list=[]\n",
    "for i in range (1,101):\n",
    "    if (i%3==0) & (i%5==0):\n",
    "        my_list.append(i)\n",
    "    else:\n",
    "        continue\n",
    "\n",
    "print(my_list)"
   ]
  },
  {
   "cell_type": "markdown",
   "id": "e3ac4875",
   "metadata": {},
   "source": []
  }
 ],
 "metadata": {
  "kernelspec": {
   "display_name": "Python 3 (ipykernel)",
   "language": "python",
   "name": "python3"
  },
  "language_info": {
   "codemirror_mode": {
    "name": "ipython",
    "version": 3
   },
   "file_extension": ".py",
   "mimetype": "text/x-python",
   "name": "python",
   "nbconvert_exporter": "python",
   "pygments_lexer": "ipython3",
   "version": "3.9.7"
  }
 },
 "nbformat": 4,
 "nbformat_minor": 5
}
